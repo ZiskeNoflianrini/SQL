{
 "cells": [
  {
   "cell_type": "markdown",
   "metadata": {},
   "source": [
    "I use vscode to run sql"
   ]
  },
  {
   "cell_type": "code",
   "execution_count": 13,
   "metadata": {},
   "outputs": [
    {
     "name": "stdout",
     "output_type": "stream",
     "text": [
      "The sql extension is already loaded. To reload it, use:\n",
      "  %reload_ext sql\n"
     ]
    }
   ],
   "source": [
    "# Load the SQL extension\n",
    "%load_ext sql\n",
    "\n",
    "# Define the SQLite database URL (change it to your desired path)\n",
    "%sql sqlite:///my_database.db\n"
   ]
  },
  {
   "cell_type": "markdown",
   "metadata": {},
   "source": [
    "This is the first table, we call it user_data that contain borrower information"
   ]
  },
  {
   "cell_type": "code",
   "execution_count": 14,
   "metadata": {},
   "outputs": [
    {
     "name": "stdout",
     "output_type": "stream",
     "text": [
      " * sqlite:///my_database.db\n",
      "(sqlite3.OperationalError) table user_data already exists\n",
      "[SQL: CREATE TABLE user_data (\n",
      "    borrower_id INTEGER PRIMARY KEY,\n",
      "    mobile TEXT,\n",
      "    email TEXT,\n",
      "    on_off INTEGER\n",
      ");]\n",
      "(Background on this error at: http://sqlalche.me/e/13/e3q8)\n"
     ]
    }
   ],
   "source": [
    "%%sql\n",
    "\n",
    "CREATE TABLE user_data (\n",
    "    borrower_id INTEGER PRIMARY KEY,\n",
    "    mobile TEXT,\n",
    "    email TEXT,\n",
    "    on_off INTEGER\n",
    ");\n",
    "\n",
    "INSERT INTO user_data (borrower_id, mobile, email, on_off)\n",
    "VALUES\n",
    "    (7756129, '089612345678', 'totoxxxxx@xxxxx.com', 1),\n",
    "    (8108629, '08222222222', 'sahdiaxxx@xxxx.com', 1),\n",
    "    (8762123, '0821201234567', 'dianfebriixxx@yyyyy.com', 1),\n",
    "    (9467668, '082113434535', 'dadansimatupangxxx@yyyyy.com', 0);\n"
   ]
  },
  {
   "cell_type": "code",
   "execution_count": 15,
   "metadata": {},
   "outputs": [
    {
     "name": "stdout",
     "output_type": "stream",
     "text": [
      " * sqlite:///my_database.db\n",
      "Done.\n"
     ]
    },
    {
     "data": {
      "text/html": [
       "<table>\n",
       "    <tr>\n",
       "        <th>borrower_id</th>\n",
       "        <th>mobile</th>\n",
       "        <th>email</th>\n",
       "        <th>on_off</th>\n",
       "    </tr>\n",
       "    <tr>\n",
       "        <td>7756129</td>\n",
       "        <td>089612345678</td>\n",
       "        <td>totoxxxxx@xxxxx.com</td>\n",
       "        <td>1</td>\n",
       "    </tr>\n",
       "    <tr>\n",
       "        <td>8108629</td>\n",
       "        <td>08222222222</td>\n",
       "        <td>sahdiaxxx@xxxx.com</td>\n",
       "        <td>1</td>\n",
       "    </tr>\n",
       "    <tr>\n",
       "        <td>8762123</td>\n",
       "        <td>0821201234567</td>\n",
       "        <td>dianfebriixxx@yyyyy.com</td>\n",
       "        <td>1</td>\n",
       "    </tr>\n",
       "    <tr>\n",
       "        <td>9467668</td>\n",
       "        <td>082113434535</td>\n",
       "        <td>dadansimatupangxxx@yyyyy.com</td>\n",
       "        <td>0</td>\n",
       "    </tr>\n",
       "</table>"
      ],
      "text/plain": [
       "[(7756129, '089612345678', 'totoxxxxx@xxxxx.com', 1),\n",
       " (8108629, '08222222222', 'sahdiaxxx@xxxx.com', 1),\n",
       " (8762123, '0821201234567', 'dianfebriixxx@yyyyy.com', 1),\n",
       " (9467668, '082113434535', 'dadansimatupangxxx@yyyyy.com', 0)]"
      ]
     },
     "execution_count": 15,
     "metadata": {},
     "output_type": "execute_result"
    }
   ],
   "source": [
    "%%sql\n",
    "\n",
    "select * from user_data"
   ]
  },
  {
   "cell_type": "markdown",
   "metadata": {},
   "source": [
    "The second table is loan_debt_data that contain information about debt information"
   ]
  },
  {
   "cell_type": "code",
   "execution_count": 16,
   "metadata": {},
   "outputs": [
    {
     "name": "stdout",
     "output_type": "stream",
     "text": [
      " * sqlite:///my_database.db\n",
      "(sqlite3.OperationalError) table loan_debt_data already exists\n",
      "[SQL: CREATE TABLE loan_debt_data (\n",
      "    debtid INTEGER PRIMARY KEY,\n",
      "    list_id INTEGER,\n",
      "    list_amount INTEGER,\n",
      "    agreement_id INTEGER,\n",
      "    borrower_id INTEGER,\n",
      "    due_date TEXT,\n",
      "    principal INTEGER,\n",
      "    interest INTEGER,\n",
      "    service_fee INTEGER,\n",
      "    payment_amount INTEGER,\n",
      "    payment_time TEXT\n",
      ");]\n",
      "(Background on this error at: http://sqlalche.me/e/13/e3q8)\n"
     ]
    }
   ],
   "source": [
    "%%sql\n",
    "\n",
    "CREATE TABLE loan_debt_data (\n",
    "    debtid INTEGER PRIMARY KEY,\n",
    "    list_id INTEGER,\n",
    "    list_amount INTEGER,\n",
    "    agreement_id INTEGER,\n",
    "    borrower_id INTEGER,\n",
    "    due_date TEXT,\n",
    "    principal INTEGER,\n",
    "    interest INTEGER,\n",
    "    service_fee INTEGER,\n",
    "    payment_amount INTEGER,\n",
    "    payment_time TEXT\n",
    ");\n",
    "\n",
    "INSERT INTO loan_debt_data (debtid, list_id, list_amount, agreement_id, borrower_id, due_date, principal, interest, service_fee, payment_amount, payment_time)\n",
    "VALUES\n",
    "    (8981902, 15380628, 700000, 15380628, 7756129, '2/15/2022 23:59', 233334, 19620, 66587, 319541, '2/16/2022 14:49'),\n",
    "    (10952655, 17629126, 500000, 17629126, 7756129, '4/5/2022 23:59', 166667, 20000, 34166, 220833, '3/8/2022 8:53'),\n",
    "    (11051115, 17725828, 500000, 17725828, 7756129, '2022-06-08 23:59:59', 166666, 20000, 34166, NULL, NULL),\n",
    "    (11051114, 17725828, 500000, 17725828, 7756129, '2022-05-08 23:59:59', 166667, 20000, 34166, NULL, NULL),\n",
    "    (11051113, 17725828, 500000, 17725828, 7756129, '2022-04-08 23:59:59', 166667, 20000, 34166, 220833, '4/5/2022 10:38'),\n",
    "    (5783140, 10938199, 1600000, 10938199, 8108629, '8/1/2021 23:59', 1600000, 29458, 149295, 1778753, '7/31/2021 10:38'),\n",
    "    (6073569, 11376290, 1700000, 11376290, 8108629, '8/17/2021 23:59', 1700000, 31299, 158626, 1889925, '8/17/2021 20:13'),\n",
    "    (6341066, 11766427, 1000000, 11766427, 8108629, '8/31/2021 23:59', 1000000, 18411, 59453, 1077864, '8/27/2021 3:34'),\n",
    "    (7192197, 12949996, 2200000, 12949996, 8108629, '10/12/2021 23:59', 2200000, 16877, 228908, 2445785, '10/12/2021 6:42'),\n",
    "    (11043867, 17718508, 2600000, 17718508, 8108629, NULL, 2600000, 104000, 208000, 2912000, '4/7/2022 9:42')\n",
    "\n",
    "UPDATE loan_debt_data\n",
    "SET principal = CAST(TRIM(BOTH ' ' FROM principal) AS INTEGER);\n",
    "\n"
   ]
  },
  {
   "cell_type": "code",
   "execution_count": 17,
   "metadata": {},
   "outputs": [
    {
     "name": "stdout",
     "output_type": "stream",
     "text": [
      " * sqlite:///my_database.db\n",
      "Done.\n"
     ]
    },
    {
     "data": {
      "text/html": [
       "<table>\n",
       "    <tr>\n",
       "        <th>debtid</th>\n",
       "        <th>list_id</th>\n",
       "        <th>list_amount</th>\n",
       "        <th>agreement_id</th>\n",
       "        <th>borrower_id</th>\n",
       "        <th>due_date</th>\n",
       "        <th>principal</th>\n",
       "        <th>interest</th>\n",
       "        <th>service_fee</th>\n",
       "        <th>payment_amount</th>\n",
       "        <th>payment_time</th>\n",
       "    </tr>\n",
       "    <tr>\n",
       "        <td>5783140</td>\n",
       "        <td>10938199</td>\n",
       "        <td>1,600,000</td>\n",
       "        <td>10938199</td>\n",
       "        <td>8108629</td>\n",
       "        <td>8/1/2021 23:59</td>\n",
       "        <td>1600000</td>\n",
       "        <td>29,458</td>\n",
       "        <td>149,295</td>\n",
       "        <td>1,778,753</td>\n",
       "        <td>7/31/2021 10:38</td>\n",
       "    </tr>\n",
       "    <tr>\n",
       "        <td>6073569</td>\n",
       "        <td>11376290</td>\n",
       "        <td>1,700,000</td>\n",
       "        <td>11376290</td>\n",
       "        <td>8108629</td>\n",
       "        <td>8/17/2021 23:59</td>\n",
       "        <td>1700000</td>\n",
       "        <td>31,299</td>\n",
       "        <td>158,626</td>\n",
       "        <td>1,889,925</td>\n",
       "        <td>8/17/2021 20:13</td>\n",
       "    </tr>\n",
       "    <tr>\n",
       "        <td>6341066</td>\n",
       "        <td>11766427</td>\n",
       "        <td>1,000,000</td>\n",
       "        <td>11766427</td>\n",
       "        <td>8108629</td>\n",
       "        <td>8/31/2021 23:59</td>\n",
       "        <td>1000000</td>\n",
       "        <td>18,411</td>\n",
       "        <td>59,453</td>\n",
       "        <td>1,077,864</td>\n",
       "        <td>8/27/2021 3:34</td>\n",
       "    </tr>\n",
       "    <tr>\n",
       "        <td>7192197</td>\n",
       "        <td>12949996</td>\n",
       "        <td>2,200,000</td>\n",
       "        <td>12949996</td>\n",
       "        <td>8108629</td>\n",
       "        <td>10/12/2021 23:59</td>\n",
       "        <td>2200000</td>\n",
       "        <td>16,877</td>\n",
       "        <td>228,908</td>\n",
       "        <td>2,445,785</td>\n",
       "        <td>10/12/2021 6:42</td>\n",
       "    </tr>\n",
       "    <tr>\n",
       "        <td>8981902</td>\n",
       "        <td>15380628</td>\n",
       "        <td>700,000</td>\n",
       "        <td>15380628</td>\n",
       "        <td>7756129</td>\n",
       "        <td>2/15/2022 23:59</td>\n",
       "        <td>233334</td>\n",
       "        <td>19,620</td>\n",
       "        <td>66,587</td>\n",
       "        <td>319,541</td>\n",
       "        <td>2/16/2022 14:49</td>\n",
       "    </tr>\n",
       "    <tr>\n",
       "        <td>10952655</td>\n",
       "        <td>17629126</td>\n",
       "        <td>500,000</td>\n",
       "        <td>17629126</td>\n",
       "        <td>7756129</td>\n",
       "        <td>4/5/2022 23:59</td>\n",
       "        <td>166667</td>\n",
       "        <td>20,000</td>\n",
       "        <td>34,166</td>\n",
       "        <td>220,833</td>\n",
       "        <td>3/8/2022 8:53</td>\n",
       "    </tr>\n",
       "    <tr>\n",
       "        <td>11043867</td>\n",
       "        <td>17718508</td>\n",
       "        <td>2,600,000</td>\n",
       "        <td>17718508</td>\n",
       "        <td>8108629</td>\n",
       "        <td>-</td>\n",
       "        <td>2600000</td>\n",
       "        <td>104,000</td>\n",
       "        <td>208,000</td>\n",
       "        <td>2,912,000</td>\n",
       "        <td>4/7/2022 9:42</td>\n",
       "    </tr>\n",
       "    <tr>\n",
       "        <td>11051113</td>\n",
       "        <td>17725828</td>\n",
       "        <td>500,000</td>\n",
       "        <td>17725828</td>\n",
       "        <td>7756129</td>\n",
       "        <td>2022-04-08 23:59:59</td>\n",
       "        <td>166667</td>\n",
       "        <td>20,000</td>\n",
       "        <td>34,166</td>\n",
       "        <td>220,833</td>\n",
       "        <td>4/5/2022 10:38</td>\n",
       "    </tr>\n",
       "    <tr>\n",
       "        <td>11051114</td>\n",
       "        <td>17725828</td>\n",
       "        <td>500,000</td>\n",
       "        <td>17725828</td>\n",
       "        <td>7756129</td>\n",
       "        <td>2022-05-08 23:59:59</td>\n",
       "        <td>166667</td>\n",
       "        <td>20,000</td>\n",
       "        <td>34,166</td>\n",
       "        <td>-</td>\n",
       "        <td>-</td>\n",
       "    </tr>\n",
       "    <tr>\n",
       "        <td>11051115</td>\n",
       "        <td>17725828</td>\n",
       "        <td>500,000</td>\n",
       "        <td>17725828</td>\n",
       "        <td>7756129</td>\n",
       "        <td>2022-06-08 23:59:59</td>\n",
       "        <td>166666</td>\n",
       "        <td>20,000</td>\n",
       "        <td>34,166</td>\n",
       "        <td>-</td>\n",
       "        <td>-</td>\n",
       "    </tr>\n",
       "</table>"
      ],
      "text/plain": [
       "[(5783140, 10938199, '1,600,000', 10938199, 8108629, '8/1/2021 23:59', '1600000', '29,458', '149,295', '1,778,753', '7/31/2021 10:38'),\n",
       " (6073569, 11376290, '1,700,000', 11376290, 8108629, '8/17/2021 23:59', '1700000', '31,299', '158,626', '1,889,925', '8/17/2021 20:13'),\n",
       " (6341066, 11766427, '1,000,000', 11766427, 8108629, '8/31/2021 23:59', '1000000', '18,411', '59,453', '1,077,864', '8/27/2021 3:34'),\n",
       " (7192197, 12949996, '2,200,000', 12949996, 8108629, '10/12/2021 23:59', '2200000', '16,877', '228,908', '2,445,785', '10/12/2021 6:42'),\n",
       " (8981902, 15380628, '700,000', 15380628, 7756129, '2/15/2022 23:59', '233334', '19,620', '66,587', '319,541', '2/16/2022 14:49'),\n",
       " (10952655, 17629126, '500,000', 17629126, 7756129, '4/5/2022 23:59', '166667', '20,000', '34,166', '220,833', '3/8/2022 8:53'),\n",
       " (11043867, 17718508, '2,600,000', 17718508, 8108629, '-', '2600000', '104,000', '208,000', '2,912,000', '4/7/2022 9:42'),\n",
       " (11051113, 17725828, '500,000', 17725828, 7756129, '2022-04-08 23:59:59', '166667', '20,000', '34,166', '220,833', '4/5/2022 10:38'),\n",
       " (11051114, 17725828, '500,000', 17725828, 7756129, '2022-05-08 23:59:59', '166667', '20,000', '34,166', '-', '-'),\n",
       " (11051115, 17725828, '500,000', 17725828, 7756129, '2022-06-08 23:59:59', '166666', '20,000', '34,166', '-', '-')]"
      ]
     },
     "execution_count": 17,
     "metadata": {},
     "output_type": "execute_result"
    }
   ],
   "source": [
    "%%sql\n",
    "\n",
    "select * from loan_debt_data"
   ]
  },
  {
   "cell_type": "markdown",
   "metadata": {},
   "source": [
    "The third table is loan_agreement_data that contain aggrement information"
   ]
  },
  {
   "cell_type": "code",
   "execution_count": 18,
   "metadata": {},
   "outputs": [
    {
     "name": "stdout",
     "output_type": "stream",
     "text": [
      " * sqlite:///my_database.db\n",
      "(sqlite3.OperationalError) table loan_agreement_data already exists\n",
      "[SQL: CREATE TABLE loan_agreement_data (\n",
      "    agreementid INTEGER PRIMARY KEY,\n",
      "    list_id INTEGER,\n",
      "    borrower_id INTEGER,\n",
      "    product_id INTEGER,\n",
      "    term_quantity INTEGER,\n",
      "    term_unit TEXT,\n",
      "    tte_document_id TEXT,\n",
      "    tte_finish_time TEXT,\n",
      "    extend_parameter TEXT\n",
      ");]\n",
      "(Background on this error at: http://sqlalche.me/e/13/e3q8)\n"
     ]
    }
   ],
   "source": [
    "%%sql\n",
    "\n",
    "CREATE TABLE loan_agreement_data (\n",
    "    agreementid INTEGER PRIMARY KEY,\n",
    "    list_id INTEGER,\n",
    "    borrower_id INTEGER,\n",
    "    product_id INTEGER,\n",
    "    term_quantity INTEGER,\n",
    "    term_unit TEXT,\n",
    "    tte_document_id TEXT,\n",
    "    tte_finish_time TEXT,\n",
    "    extend_parameter TEXT\n",
    ");\n",
    "\n",
    "INSERT INTO loan_agreement_data (agreementid, list_id, borrower_id, product_id, term_quantity, term_unit, tte_document_id, tte_finish_time, extend_parameter)\n",
    "VALUES\n",
    "    (10938199, 10938199, 8108629, 10000, 14, 'D', '37969f8073d84b2fa58ff0377c14e0c2', '7/18/2021 19:07', '{\"R1Msc\":\"1\",\"insuServiceFeeRate\":\"0.01800\",\"insuFee\":\"1540\",\"insuServiceFee\":\"474\",\"insuFeeRate\":\"0.10000\"}'),\n",
    "    (11376290, 11376290, 8108629, 10000, 14, 'D', NULL, NULL, '{\"R1Msc\":\"1\",\"insuServiceFeeRate\":\"0.01800\",\"insuFee\":\"1540\",\"insuServiceFee\":\"474\",\"insuFeeRate\":\"0.10000\"}'),\n",
    "    (11766427, 11766427, 8108629, 10000, 14, 'D', NULL, NULL, '{\"R1Msc\":\"1\",\"insuServiceFeeRate\":\"0.01800\",\"insuFee\":\"1540\",\"insuServiceFee\":\"474\",\"insuFeeRate\":\"0.10000\"}'),\n",
    "    (12949996, 12949996, 8108629, 10000, 14, 'D', NULL, NULL, '{\"R1Msc\":\"1\",\"insuServiceFeeRate\":\"0.01800\",\"insuFee\":\"1540\",\"insuServiceFee\":\"474\",\"insuFeeRate\":\"0.10000\"}'),\n",
    "    (15380628, 15380628, 7756129, 10001, 1, 'M', NULL, NULL, '{\"R1Msc\":\"1\",\"insuServiceFeeRate\":\"0.0200\",\"insuFee\":\"9640\",\"insuServiceFee\":\"74\",\"insuFeeRate\":\"0.10000\"}'),\n",
    "    (17629126, 17629126, 7756129, 10001, 1, 'M', '8fc06fec35704f26a5c4b066127b13e3', '3/5/2022 7:51', '{\"R1Msc\":\"1\",\"insuServiceFeeRate\":\"0.0200\",\"insuFee\":\"9640\",\"insuServiceFee\":\"74\",\"insuFeeRate\":\"0.10000\"}'),\n",
    "    (17718508, 17718508, 8108629, 10001, 1, 'M', 'a667867bcfbf4d758e03573f6225697b', '3/8/2022 8:28', '{\"R1Msc\":\"1\",\"insuServiceFeeRate\":\"0.01800\",\"insuFee\":\"1540\",\"insuServiceFee\":\"474\",\"insuFeeRate\":\"0.10000\"}'),\n",
    "    (17725828, 17725828, 7756129, 10001, 1, 'M', '64429a6370dd463d9c3fd61cb5af77b8', '3/8/2022 12:25', '{\"R1Msc\":\"1\",\"insuServiceFeeRate\":\"0.0200\",\"insuFee\":\"9640\",\"insuServiceFee\":\"74\",\"insuFeeRate\":\"0.10000\"}'),\n",
    "    (18275607, 18275607, 9467668, 10002, 1, 'M', '343dva6370dd463d9c3fd61cb5af77b8', NULL, '{\"R1Msc\":\"1\",\"insuServiceFeeRate\":\"0.00100\",\"insuFee\":\"640\",\"insuServiceFee\":\"6474\",\"insuFeeRate\":\"0.02000\"}'),\n",
    "    (18666193, 18666193, 9467668, 10002, 1, 'M', '95k06fec35704f26a5c4b066127b13e3', NULL, '{\"R1Msc\":\"1\",\"insuServiceFeeRate\":\"0.00100\",\"insuFee\":\"640\",\"insuServiceFee\":\"6474\",\"insuFeeRate\":\"0.02000\"}');\n"
   ]
  },
  {
   "cell_type": "code",
   "execution_count": 19,
   "metadata": {},
   "outputs": [
    {
     "name": "stdout",
     "output_type": "stream",
     "text": [
      " * sqlite:///my_database.db\n",
      "Done.\n"
     ]
    },
    {
     "data": {
      "text/html": [
       "<table>\n",
       "    <tr>\n",
       "        <th>agreementid</th>\n",
       "        <th>list_id</th>\n",
       "        <th>borrower_id</th>\n",
       "        <th>product_id</th>\n",
       "        <th>term_quantity</th>\n",
       "        <th>term_unit</th>\n",
       "        <th>tte_document_id</th>\n",
       "        <th>tte_finish_time</th>\n",
       "        <th>extend_parameter</th>\n",
       "    </tr>\n",
       "    <tr>\n",
       "        <td>10938199</td>\n",
       "        <td>10938199</td>\n",
       "        <td>8108629</td>\n",
       "        <td>10000</td>\n",
       "        <td>14</td>\n",
       "        <td>D</td>\n",
       "        <td>37969f8073d84b2fa58ff0377c14e0c2</td>\n",
       "        <td>7/18/2021 19:07</td>\n",
       "        <td>{&quot;R1Msc&quot;:&quot;1&quot;,&quot;insuServiceFeeRate&quot;:&quot;0.01800&quot;,&quot;insuFee&quot;:&quot;1540&quot;,&quot;insuServiceFee&quot;:&quot;474&quot;,&quot;insuFeeRate&quot;:&quot;0.10000&quot;}</td>\n",
       "    </tr>\n",
       "    <tr>\n",
       "        <td>11376290</td>\n",
       "        <td>11376290</td>\n",
       "        <td>8108629</td>\n",
       "        <td>10000</td>\n",
       "        <td>14</td>\n",
       "        <td>D</td>\n",
       "        <td>None</td>\n",
       "        <td>None</td>\n",
       "        <td>{&quot;R1Msc&quot;:&quot;1&quot;,&quot;insuServiceFeeRate&quot;:&quot;0.01800&quot;,&quot;insuFee&quot;:&quot;1540&quot;,&quot;insuServiceFee&quot;:&quot;474&quot;,&quot;insuFeeRate&quot;:&quot;0.10000&quot;}</td>\n",
       "    </tr>\n",
       "    <tr>\n",
       "        <td>11766427</td>\n",
       "        <td>11766427</td>\n",
       "        <td>8108629</td>\n",
       "        <td>10000</td>\n",
       "        <td>14</td>\n",
       "        <td>D</td>\n",
       "        <td>None</td>\n",
       "        <td>None</td>\n",
       "        <td>{&quot;R1Msc&quot;:&quot;1&quot;,&quot;insuServiceFeeRate&quot;:&quot;0.01800&quot;,&quot;insuFee&quot;:&quot;1540&quot;,&quot;insuServiceFee&quot;:&quot;474&quot;,&quot;insuFeeRate&quot;:&quot;0.10000&quot;}</td>\n",
       "    </tr>\n",
       "    <tr>\n",
       "        <td>12949996</td>\n",
       "        <td>12949996</td>\n",
       "        <td>8108629</td>\n",
       "        <td>10000</td>\n",
       "        <td>14</td>\n",
       "        <td>D</td>\n",
       "        <td>None</td>\n",
       "        <td>None</td>\n",
       "        <td>{&quot;R1Msc&quot;:&quot;1&quot;,&quot;insuServiceFeeRate&quot;:&quot;0.01800&quot;,&quot;insuFee&quot;:&quot;1540&quot;,&quot;insuServiceFee&quot;:&quot;474&quot;,&quot;insuFeeRate&quot;:&quot;0.10000&quot;}</td>\n",
       "    </tr>\n",
       "    <tr>\n",
       "        <td>15380628</td>\n",
       "        <td>15380628</td>\n",
       "        <td>7756129</td>\n",
       "        <td>10001</td>\n",
       "        <td>1</td>\n",
       "        <td>M</td>\n",
       "        <td>None</td>\n",
       "        <td>None</td>\n",
       "        <td>{&quot;R1Msc&quot;:&quot;1&quot;,&quot;insuServiceFeeRate&quot;:&quot;0.0200&quot;,&quot;insuFee&quot;:&quot;9640&quot;,&quot;insuServiceFee&quot;:&quot;74&quot;,&quot;insuFeeRate&quot;:&quot;0.10000&quot;}</td>\n",
       "    </tr>\n",
       "    <tr>\n",
       "        <td>17629126</td>\n",
       "        <td>17629126</td>\n",
       "        <td>7756129</td>\n",
       "        <td>10001</td>\n",
       "        <td>1</td>\n",
       "        <td>M</td>\n",
       "        <td>8fc06fec35704f26a5c4b066127b13e3</td>\n",
       "        <td>3/5/2022 7:51</td>\n",
       "        <td>{&quot;R1Msc&quot;:&quot;1&quot;,&quot;insuServiceFeeRate&quot;:&quot;0.0200&quot;,&quot;insuFee&quot;:&quot;9640&quot;,&quot;insuServiceFee&quot;:&quot;74&quot;,&quot;insuFeeRate&quot;:&quot;0.10000&quot;}</td>\n",
       "    </tr>\n",
       "    <tr>\n",
       "        <td>17718508</td>\n",
       "        <td>17718508</td>\n",
       "        <td>8108629</td>\n",
       "        <td>10001</td>\n",
       "        <td>1</td>\n",
       "        <td>M</td>\n",
       "        <td>a667867bcfbf4d758e03573f6225697b</td>\n",
       "        <td>3/8/2022 8:28</td>\n",
       "        <td>{&quot;R1Msc&quot;:&quot;1&quot;,&quot;insuServiceFeeRate&quot;:&quot;0.01800&quot;,&quot;insuFee&quot;:&quot;1540&quot;,&quot;insuServiceFee&quot;:&quot;474&quot;,&quot;insuFeeRate&quot;:&quot;0.10000&quot;}</td>\n",
       "    </tr>\n",
       "    <tr>\n",
       "        <td>17725828</td>\n",
       "        <td>17725828</td>\n",
       "        <td>7756129</td>\n",
       "        <td>10001</td>\n",
       "        <td>1</td>\n",
       "        <td>M</td>\n",
       "        <td>64429a6370dd463d9c3fd61cb5af77b8</td>\n",
       "        <td>3/8/2022 12:25</td>\n",
       "        <td>{&quot;R1Msc&quot;:&quot;1&quot;,&quot;insuServiceFeeRate&quot;:&quot;0.0200&quot;,&quot;insuFee&quot;:&quot;9640&quot;,&quot;insuServiceFee&quot;:&quot;74&quot;,&quot;insuFeeRate&quot;:&quot;0.10000&quot;}</td>\n",
       "    </tr>\n",
       "    <tr>\n",
       "        <td>18275607</td>\n",
       "        <td>18275607</td>\n",
       "        <td>9467668</td>\n",
       "        <td>10002</td>\n",
       "        <td>1</td>\n",
       "        <td>M</td>\n",
       "        <td>343dva6370dd463d9c3fd61cb5af77b8</td>\n",
       "        <td>None</td>\n",
       "        <td>{&quot;R1Msc&quot;:&quot;1&quot;,&quot;insuServiceFeeRate&quot;:&quot;0.00100&quot;,&quot;insuFee&quot;:&quot;640&quot;,&quot;insuServiceFee&quot;:&quot;6474&quot;,&quot;insuFeeRate&quot;:&quot;0.02000&quot;}</td>\n",
       "    </tr>\n",
       "    <tr>\n",
       "        <td>18666193</td>\n",
       "        <td>18666193</td>\n",
       "        <td>9467668</td>\n",
       "        <td>10002</td>\n",
       "        <td>1</td>\n",
       "        <td>M</td>\n",
       "        <td>95k06fec35704f26a5c4b066127b13e3</td>\n",
       "        <td>None</td>\n",
       "        <td>{&quot;R1Msc&quot;:&quot;1&quot;,&quot;insuServiceFeeRate&quot;:&quot;0.00100&quot;,&quot;insuFee&quot;:&quot;640&quot;,&quot;insuServiceFee&quot;:&quot;6474&quot;,&quot;insuFeeRate&quot;:&quot;0.02000&quot;}</td>\n",
       "    </tr>\n",
       "</table>"
      ],
      "text/plain": [
       "[(10938199, 10938199, 8108629, 10000, 14, 'D', '37969f8073d84b2fa58ff0377c14e0c2', '7/18/2021 19:07', '{\"R1Msc\":\"1\",\"insuServiceFeeRate\":\"0.01800\",\"insuFee\":\"1540\",\"insuServiceFee\":\"474\",\"insuFeeRate\":\"0.10000\"}'),\n",
       " (11376290, 11376290, 8108629, 10000, 14, 'D', None, None, '{\"R1Msc\":\"1\",\"insuServiceFeeRate\":\"0.01800\",\"insuFee\":\"1540\",\"insuServiceFee\":\"474\",\"insuFeeRate\":\"0.10000\"}'),\n",
       " (11766427, 11766427, 8108629, 10000, 14, 'D', None, None, '{\"R1Msc\":\"1\",\"insuServiceFeeRate\":\"0.01800\",\"insuFee\":\"1540\",\"insuServiceFee\":\"474\",\"insuFeeRate\":\"0.10000\"}'),\n",
       " (12949996, 12949996, 8108629, 10000, 14, 'D', None, None, '{\"R1Msc\":\"1\",\"insuServiceFeeRate\":\"0.01800\",\"insuFee\":\"1540\",\"insuServiceFee\":\"474\",\"insuFeeRate\":\"0.10000\"}'),\n",
       " (15380628, 15380628, 7756129, 10001, 1, 'M', None, None, '{\"R1Msc\":\"1\",\"insuServiceFeeRate\":\"0.0200\",\"insuFee\":\"9640\",\"insuServiceFee\":\"74\",\"insuFeeRate\":\"0.10000\"}'),\n",
       " (17629126, 17629126, 7756129, 10001, 1, 'M', '8fc06fec35704f26a5c4b066127b13e3', '3/5/2022 7:51', '{\"R1Msc\":\"1\",\"insuServiceFeeRate\":\"0.0200\",\"insuFee\":\"9640\",\"insuServiceFee\":\"74\",\"insuFeeRate\":\"0.10000\"}'),\n",
       " (17718508, 17718508, 8108629, 10001, 1, 'M', 'a667867bcfbf4d758e03573f6225697b', '3/8/2022 8:28', '{\"R1Msc\":\"1\",\"insuServiceFeeRate\":\"0.01800\",\"insuFee\":\"1540\",\"insuServiceFee\":\"474\",\"insuFeeRate\":\"0.10000\"}'),\n",
       " (17725828, 17725828, 7756129, 10001, 1, 'M', '64429a6370dd463d9c3fd61cb5af77b8', '3/8/2022 12:25', '{\"R1Msc\":\"1\",\"insuServiceFeeRate\":\"0.0200\",\"insuFee\":\"9640\",\"insuServiceFee\":\"74\",\"insuFeeRate\":\"0.10000\"}'),\n",
       " (18275607, 18275607, 9467668, 10002, 1, 'M', '343dva6370dd463d9c3fd61cb5af77b8', None, '{\"R1Msc\":\"1\",\"insuServiceFeeRate\":\"0.00100\",\"insuFee\":\"640\",\"insuServiceFee\":\"6474\",\"insuFeeRate\":\"0.02000\"}'),\n",
       " (18666193, 18666193, 9467668, 10002, 1, 'M', '95k06fec35704f26a5c4b066127b13e3', None, '{\"R1Msc\":\"1\",\"insuServiceFeeRate\":\"0.00100\",\"insuFee\":\"640\",\"insuServiceFee\":\"6474\",\"insuFeeRate\":\"0.02000\"}')]"
      ]
     },
     "execution_count": 19,
     "metadata": {},
     "output_type": "execute_result"
    }
   ],
   "source": [
    "%%sql\n",
    "\n",
    "select * from loan_agreement_data"
   ]
  },
  {
   "cell_type": "markdown",
   "metadata": {},
   "source": [
    "The last table is information about product information"
   ]
  },
  {
   "cell_type": "code",
   "execution_count": 20,
   "metadata": {},
   "outputs": [
    {
     "name": "stdout",
     "output_type": "stream",
     "text": [
      " * sqlite:///my_database.db\n",
      "(sqlite3.OperationalError) table loan_product already exists\n",
      "[SQL: CREATE TABLE loan_product (\n",
      "    product_id INTEGER PRIMARY KEY,\n",
      "    product_name TEXT\n",
      ");]\n",
      "(Background on this error at: http://sqlalche.me/e/13/e3q8)\n"
     ]
    }
   ],
   "source": [
    "%%sql\n",
    "\n",
    "CREATE TABLE loan_product (\n",
    "    product_id INTEGER PRIMARY KEY,\n",
    "    product_name TEXT\n",
    ");\n",
    "\n",
    "INSERT INTO loan_product (product_id, product_name)\n",
    "VALUES\n",
    "    (10000, 'Pay Day Loan'),\n",
    "    (10001, 'Installment'),\n",
    "    (10002, 'BNPL');\n"
   ]
  },
  {
   "cell_type": "code",
   "execution_count": 21,
   "metadata": {},
   "outputs": [
    {
     "name": "stdout",
     "output_type": "stream",
     "text": [
      " * sqlite:///my_database.db\n",
      "Done.\n"
     ]
    },
    {
     "data": {
      "text/html": [
       "<table>\n",
       "    <tr>\n",
       "        <th>product_id</th>\n",
       "        <th>product_name</th>\n",
       "    </tr>\n",
       "    <tr>\n",
       "        <td>10000</td>\n",
       "        <td>Pay Day Loan</td>\n",
       "    </tr>\n",
       "    <tr>\n",
       "        <td>10001</td>\n",
       "        <td>Installment</td>\n",
       "    </tr>\n",
       "    <tr>\n",
       "        <td>10002</td>\n",
       "        <td>BNPL</td>\n",
       "    </tr>\n",
       "</table>"
      ],
      "text/plain": [
       "[(10000, 'Pay Day Loan'), (10001, 'Installment'), (10002, 'BNPL')]"
      ]
     },
     "execution_count": 21,
     "metadata": {},
     "output_type": "execute_result"
    }
   ],
   "source": [
    "%%sql\n",
    "\n",
    "select * from loan_product"
   ]
  },
  {
   "cell_type": "markdown",
   "metadata": {},
   "source": [
    "**First Problem is to display borrowers who are still active, have loans with the product name Pay Day Loan, and Principal Loan above 1 million**"
   ]
  },
  {
   "cell_type": "markdown",
   "metadata": {},
   "source": [
    "I have to set up the principal column first because it contain whitespace"
   ]
  },
  {
   "cell_type": "code",
   "execution_count": 22,
   "metadata": {},
   "outputs": [
    {
     "name": "stdout",
     "output_type": "stream",
     "text": [
      " * sqlite:///my_database.db\n",
      "(sqlite3.OperationalError) near \"UPDATE\": syntax error\n",
      "[SQL: UPDATE loan_debt_data\n",
      "SET principal = REPLACE(principal, ',', '')\n",
      "\n",
      "UPDATE loan_debt_data\n",
      "SET list_id = REPLACE(list_id, ',', '');]\n",
      "(Background on this error at: http://sqlalche.me/e/13/e3q8)\n"
     ]
    }
   ],
   "source": [
    "%%sql\n",
    "UPDATE loan_debt_data\n",
    "SET principal = REPLACE(principal, ',', '')\n",
    "\n",
    "UPDATE loan_debt_data\n",
    "SET list_id = REPLACE(list_id, ',', '');;"
   ]
  },
  {
   "cell_type": "code",
   "execution_count": 23,
   "metadata": {},
   "outputs": [
    {
     "name": "stdout",
     "output_type": "stream",
     "text": [
      " * sqlite:///my_database.db\n",
      "Done.\n"
     ]
    },
    {
     "data": {
      "text/html": [
       "<table>\n",
       "    <tr>\n",
       "        <th>borrower_id</th>\n",
       "        <th>mobile</th>\n",
       "        <th>product_name</th>\n",
       "        <th>list_id</th>\n",
       "        <th>principal</th>\n",
       "    </tr>\n",
       "    <tr>\n",
       "        <td>8108629</td>\n",
       "        <td>08222222222</td>\n",
       "        <td>Pay Day Loan</td>\n",
       "        <td>10938199</td>\n",
       "        <td>1600000</td>\n",
       "    </tr>\n",
       "    <tr>\n",
       "        <td>8108629</td>\n",
       "        <td>08222222222</td>\n",
       "        <td>Pay Day Loan</td>\n",
       "        <td>11376290</td>\n",
       "        <td>1700000</td>\n",
       "    </tr>\n",
       "    <tr>\n",
       "        <td>8108629</td>\n",
       "        <td>08222222222</td>\n",
       "        <td>Pay Day Loan</td>\n",
       "        <td>12949996</td>\n",
       "        <td>2200000</td>\n",
       "    </tr>\n",
       "</table>"
      ],
      "text/plain": [
       "[(8108629, '08222222222', 'Pay Day Loan', 10938199, '1600000'),\n",
       " (8108629, '08222222222', 'Pay Day Loan', 11376290, '1700000'),\n",
       " (8108629, '08222222222', 'Pay Day Loan', 12949996, '2200000')]"
      ]
     },
     "execution_count": 23,
     "metadata": {},
     "output_type": "execute_result"
    }
   ],
   "source": [
    "%%sql\n",
    "SELECT l.borrower_id, u.mobile, lp.product_name, la.list_id, l.principal FROM loan_debt_data as l\n",
    "left join loan_agreement_data as la\n",
    "on l.list_id = la.list_id\n",
    "left join user_data as u\n",
    "on l.borrower_id = u.borrower_id\n",
    "left join loan_product as lp\n",
    "on la.product_id = lp.product_id\n",
    "WHERE CAST(TRIM(l.principal) AS INTEGER) > 1000000\n",
    "and lp.product_name = 'Pay Day Loan';"
   ]
  },
  {
   "cell_type": "markdown",
   "metadata": {},
   "source": [
    "**Second problem is The user needs to prepare a loan report related to the Borrower with the phone number 089612345678 and Contract Number (List_ID) 17725828.**"
   ]
  },
  {
   "cell_type": "code",
   "execution_count": 24,
   "metadata": {},
   "outputs": [
    {
     "name": "stdout",
     "output_type": "stream",
     "text": [
      " * sqlite:///my_database.db\n",
      "Done.\n"
     ]
    },
    {
     "data": {
      "text/html": [
       "<table>\n",
       "    <tr>\n",
       "        <th>list_id</th>\n",
       "        <th>list_amount</th>\n",
       "        <th>agreement_id</th>\n",
       "        <th>borrower_id</th>\n",
       "        <th>email</th>\n",
       "        <th>mobile</th>\n",
       "        <th>due_date</th>\n",
       "        <th>principal</th>\n",
       "        <th>interest</th>\n",
       "        <th>service_fee</th>\n",
       "        <th>payment_amount</th>\n",
       "        <th>payment_time</th>\n",
       "    </tr>\n",
       "    <tr>\n",
       "        <td>17725828</td>\n",
       "        <td>500,000</td>\n",
       "        <td>17725828</td>\n",
       "        <td>7756129</td>\n",
       "        <td>totoxxxxx@xxxxx.com</td>\n",
       "        <td>089612345678</td>\n",
       "        <td>2022-04-08 23:59:59</td>\n",
       "        <td>166667</td>\n",
       "        <td>20,000</td>\n",
       "        <td>34,166</td>\n",
       "        <td>220,833</td>\n",
       "        <td>4/5/2022 10:38</td>\n",
       "    </tr>\n",
       "    <tr>\n",
       "        <td>17725828</td>\n",
       "        <td>500,000</td>\n",
       "        <td>17725828</td>\n",
       "        <td>7756129</td>\n",
       "        <td>totoxxxxx@xxxxx.com</td>\n",
       "        <td>089612345678</td>\n",
       "        <td>2022-05-08 23:59:59</td>\n",
       "        <td>166667</td>\n",
       "        <td>20,000</td>\n",
       "        <td>34,166</td>\n",
       "        <td>-</td>\n",
       "        <td>-</td>\n",
       "    </tr>\n",
       "    <tr>\n",
       "        <td>17725828</td>\n",
       "        <td>500,000</td>\n",
       "        <td>17725828</td>\n",
       "        <td>7756129</td>\n",
       "        <td>totoxxxxx@xxxxx.com</td>\n",
       "        <td>089612345678</td>\n",
       "        <td>2022-06-08 23:59:59</td>\n",
       "        <td>166666</td>\n",
       "        <td>20,000</td>\n",
       "        <td>34,166</td>\n",
       "        <td>-</td>\n",
       "        <td>-</td>\n",
       "    </tr>\n",
       "</table>"
      ],
      "text/plain": [
       "[(17725828, '500,000', 17725828, 7756129, 'totoxxxxx@xxxxx.com', '089612345678', '2022-04-08 23:59:59', '166667', '20,000', '34,166', '220,833', '4/5/2022 10:38'),\n",
       " (17725828, '500,000', 17725828, 7756129, 'totoxxxxx@xxxxx.com', '089612345678', '2022-05-08 23:59:59', '166667', '20,000', '34,166', '-', '-'),\n",
       " (17725828, '500,000', 17725828, 7756129, 'totoxxxxx@xxxxx.com', '089612345678', '2022-06-08 23:59:59', '166666', '20,000', '34,166', '-', '-')]"
      ]
     },
     "execution_count": 24,
     "metadata": {},
     "output_type": "execute_result"
    }
   ],
   "source": [
    "%%sql\n",
    "SELECT l.list_id, l.list_amount, l.agreement_id, l.borrower_id,\n",
    "u.email, u.mobile, l.due_date, l.principal, l.interest,\n",
    "l.service_fee, l.payment_amount, l.payment_time FROM loan_debt_data as l\n",
    "left join loan_agreement_data as la\n",
    "on l.list_id = la.list_id\n",
    "left join user_data as u\n",
    "on l.borrower_id = u.borrower_id\n",
    "where u.mobile = '089612345678' \n",
    "and l.list_id = 17725828;"
   ]
  },
  {
   "cell_type": "markdown",
   "metadata": {},
   "source": [
    "**Third problem is the same as the second problem but now show the tte_finish_time column and the paymen_amount is not null.**"
   ]
  },
  {
   "cell_type": "code",
   "execution_count": 25,
   "metadata": {},
   "outputs": [
    {
     "name": "stdout",
     "output_type": "stream",
     "text": [
      " * sqlite:///my_database.db\n",
      "Done.\n"
     ]
    },
    {
     "data": {
      "text/html": [
       "<table>\n",
       "    <tr>\n",
       "        <th>tte_finish_time</th>\n",
       "        <th>list_id</th>\n",
       "        <th>list_amount</th>\n",
       "        <th>agreement_id</th>\n",
       "        <th>borrower_id</th>\n",
       "        <th>email</th>\n",
       "        <th>mobile</th>\n",
       "    </tr>\n",
       "    <tr>\n",
       "        <td>3/8/2022 12:25</td>\n",
       "        <td>17725828</td>\n",
       "        <td>500,000</td>\n",
       "        <td>17725828</td>\n",
       "        <td>7756129</td>\n",
       "        <td>totoxxxxx@xxxxx.com</td>\n",
       "        <td>089612345678</td>\n",
       "    </tr>\n",
       "</table>"
      ],
      "text/plain": [
       "[('3/8/2022 12:25', 17725828, '500,000', 17725828, 7756129, 'totoxxxxx@xxxxx.com', '089612345678')]"
      ]
     },
     "execution_count": 25,
     "metadata": {},
     "output_type": "execute_result"
    }
   ],
   "source": [
    "%%sql\n",
    "SELECT la.tte_finish_time, l.list_id, l.list_amount, l.agreement_id, l.borrower_id,\n",
    "u.email, u.mobile FROM loan_debt_data as l\n",
    "left join loan_agreement_data as la\n",
    "on l.list_id = la.list_id\n",
    "left join user_data as u\n",
    "on l.borrower_id = u.borrower_id\n",
    "where u.mobile = '089612345678' \n",
    "and l.list_id = 17725828\n",
    "and payment_amount is not '-';"
   ]
  },
  {
   "cell_type": "markdown",
   "metadata": {},
   "source": [
    "**The fourth problem is user needs to present loan data that has been requested but the borrower has not yet electronically signed the agreement (change tte_finish_time column name to tte_status and fill null with 'No Signature')**"
   ]
  },
  {
   "cell_type": "code",
   "execution_count": 26,
   "metadata": {},
   "outputs": [
    {
     "name": "stdout",
     "output_type": "stream",
     "text": [
      " * sqlite:///my_database.db\n",
      "Done.\n"
     ]
    },
    {
     "data": {
      "text/html": [
       "<table>\n",
       "    <tr>\n",
       "        <th>tte_status</th>\n",
       "        <th>list_id</th>\n",
       "        <th>list_amount</th>\n",
       "        <th>agreement_id</th>\n",
       "        <th>borrower_id</th>\n",
       "        <th>email</th>\n",
       "        <th>mobile</th>\n",
       "    </tr>\n",
       "    <tr>\n",
       "        <td>7/18/2021 19:07</td>\n",
       "        <td>10938199</td>\n",
       "        <td>1,600,000</td>\n",
       "        <td>10938199</td>\n",
       "        <td>8108629</td>\n",
       "        <td>sahdiaxxx@xxxx.com</td>\n",
       "        <td>08222222222</td>\n",
       "    </tr>\n",
       "    <tr>\n",
       "        <td>No Signature</td>\n",
       "        <td>11376290</td>\n",
       "        <td>1,700,000</td>\n",
       "        <td>11376290</td>\n",
       "        <td>8108629</td>\n",
       "        <td>sahdiaxxx@xxxx.com</td>\n",
       "        <td>08222222222</td>\n",
       "    </tr>\n",
       "    <tr>\n",
       "        <td>No Signature</td>\n",
       "        <td>11766427</td>\n",
       "        <td>1,000,000</td>\n",
       "        <td>11766427</td>\n",
       "        <td>8108629</td>\n",
       "        <td>sahdiaxxx@xxxx.com</td>\n",
       "        <td>08222222222</td>\n",
       "    </tr>\n",
       "    <tr>\n",
       "        <td>No Signature</td>\n",
       "        <td>12949996</td>\n",
       "        <td>2,200,000</td>\n",
       "        <td>12949996</td>\n",
       "        <td>8108629</td>\n",
       "        <td>sahdiaxxx@xxxx.com</td>\n",
       "        <td>08222222222</td>\n",
       "    </tr>\n",
       "    <tr>\n",
       "        <td>No Signature</td>\n",
       "        <td>15380628</td>\n",
       "        <td>700,000</td>\n",
       "        <td>15380628</td>\n",
       "        <td>7756129</td>\n",
       "        <td>totoxxxxx@xxxxx.com</td>\n",
       "        <td>089612345678</td>\n",
       "    </tr>\n",
       "    <tr>\n",
       "        <td>3/5/2022 7:51</td>\n",
       "        <td>17629126</td>\n",
       "        <td>500,000</td>\n",
       "        <td>17629126</td>\n",
       "        <td>7756129</td>\n",
       "        <td>totoxxxxx@xxxxx.com</td>\n",
       "        <td>089612345678</td>\n",
       "    </tr>\n",
       "    <tr>\n",
       "        <td>3/8/2022 8:28</td>\n",
       "        <td>17718508</td>\n",
       "        <td>2,600,000</td>\n",
       "        <td>17718508</td>\n",
       "        <td>8108629</td>\n",
       "        <td>sahdiaxxx@xxxx.com</td>\n",
       "        <td>08222222222</td>\n",
       "    </tr>\n",
       "    <tr>\n",
       "        <td>3/8/2022 12:25</td>\n",
       "        <td>17725828</td>\n",
       "        <td>500,000</td>\n",
       "        <td>17725828</td>\n",
       "        <td>7756129</td>\n",
       "        <td>totoxxxxx@xxxxx.com</td>\n",
       "        <td>089612345678</td>\n",
       "    </tr>\n",
       "    <tr>\n",
       "        <td>3/8/2022 12:25</td>\n",
       "        <td>17725828</td>\n",
       "        <td>500,000</td>\n",
       "        <td>17725828</td>\n",
       "        <td>7756129</td>\n",
       "        <td>totoxxxxx@xxxxx.com</td>\n",
       "        <td>089612345678</td>\n",
       "    </tr>\n",
       "    <tr>\n",
       "        <td>3/8/2022 12:25</td>\n",
       "        <td>17725828</td>\n",
       "        <td>500,000</td>\n",
       "        <td>17725828</td>\n",
       "        <td>7756129</td>\n",
       "        <td>totoxxxxx@xxxxx.com</td>\n",
       "        <td>089612345678</td>\n",
       "    </tr>\n",
       "</table>"
      ],
      "text/plain": [
       "[('7/18/2021 19:07', 10938199, '1,600,000', 10938199, 8108629, 'sahdiaxxx@xxxx.com', '08222222222'),\n",
       " ('No Signature', 11376290, '1,700,000', 11376290, 8108629, 'sahdiaxxx@xxxx.com', '08222222222'),\n",
       " ('No Signature', 11766427, '1,000,000', 11766427, 8108629, 'sahdiaxxx@xxxx.com', '08222222222'),\n",
       " ('No Signature', 12949996, '2,200,000', 12949996, 8108629, 'sahdiaxxx@xxxx.com', '08222222222'),\n",
       " ('No Signature', 15380628, '700,000', 15380628, 7756129, 'totoxxxxx@xxxxx.com', '089612345678'),\n",
       " ('3/5/2022 7:51', 17629126, '500,000', 17629126, 7756129, 'totoxxxxx@xxxxx.com', '089612345678'),\n",
       " ('3/8/2022 8:28', 17718508, '2,600,000', 17718508, 8108629, 'sahdiaxxx@xxxx.com', '08222222222'),\n",
       " ('3/8/2022 12:25', 17725828, '500,000', 17725828, 7756129, 'totoxxxxx@xxxxx.com', '089612345678'),\n",
       " ('3/8/2022 12:25', 17725828, '500,000', 17725828, 7756129, 'totoxxxxx@xxxxx.com', '089612345678'),\n",
       " ('3/8/2022 12:25', 17725828, '500,000', 17725828, 7756129, 'totoxxxxx@xxxxx.com', '089612345678')]"
      ]
     },
     "execution_count": 26,
     "metadata": {},
     "output_type": "execute_result"
    }
   ],
   "source": [
    "%%sql\n",
    "SELECT case when la.tte_finish_time is null then 'No Signature' else la.tte_finish_time end as tte_status,\n",
    "l.list_id, l.list_amount, l.agreement_id, l.borrower_id,\n",
    "u.email, u.mobile FROM loan_debt_data as l\n",
    "left join loan_agreement_data as la\n",
    "on l.list_id = la.list_id\n",
    "left join user_data as u\n",
    "on l.borrower_id = u.borrower_id;"
   ]
  },
  {
   "cell_type": "markdown",
   "metadata": {},
   "source": [
    "**The last question is user needs to present the insurance rate and insurance fee for list_id 17629126.**"
   ]
  },
  {
   "cell_type": "code",
   "execution_count": 49,
   "metadata": {},
   "outputs": [
    {
     "name": "stdout",
     "output_type": "stream",
     "text": [
      " * sqlite:///my_database.db\n",
      "Done.\n"
     ]
    },
    {
     "data": {
      "text/html": [
       "<table>\n",
       "    <tr>\n",
       "        <th>list_id</th>\n",
       "        <th>ins_fee</th>\n",
       "        <th>ins_rate</th>\n",
       "    </tr>\n",
       "    <tr>\n",
       "        <td>17629126</td>\n",
       "        <td>9640</td>\n",
       "        <td>0.10000</td>\n",
       "    </tr>\n",
       "</table>"
      ],
      "text/plain": [
       "[(17629126, '9640', '0.10000')]"
      ]
     },
     "execution_count": 49,
     "metadata": {},
     "output_type": "execute_result"
    }
   ],
   "source": [
    "%%sql\n",
    "\n",
    "select list_id, JSON_EXTRACT(extend_parameter, '$.insuFee') as ins_fee, \n",
    "JSON_EXTRACT(extend_parameter, '$.insuFeeRate') as ins_rate from loan_agreement_data\n",
    "where list_id = 17629126"
   ]
  }
 ],
 "metadata": {
  "kernelspec": {
   "display_name": "base",
   "language": "python",
   "name": "python3"
  },
  "language_info": {
   "codemirror_mode": {
    "name": "ipython",
    "version": 3
   },
   "file_extension": ".py",
   "mimetype": "text/x-python",
   "name": "python",
   "nbconvert_exporter": "python",
   "pygments_lexer": "ipython3",
   "version": "3.9.7"
  },
  "orig_nbformat": 4,
  "vscode": {
   "interpreter": {
    "hash": "5179d32cf6ec497baf3f8a3ef987cc77c5d2dc691fdde20a56316522f61a7323"
   }
  }
 },
 "nbformat": 4,
 "nbformat_minor": 2
}
